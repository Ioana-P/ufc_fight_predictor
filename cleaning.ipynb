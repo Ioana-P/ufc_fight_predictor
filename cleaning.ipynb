{
 "cells": [
  {
   "cell_type": "code",
   "execution_count": 63,
   "metadata": {},
   "outputs": [],
   "source": [
    "import pandas as pd\n",
    "from pandas import datetime\n",
    "import numpy as np"
   ]
  },
  {
   "cell_type": "markdown",
   "metadata": {},
   "source": [
    "# 1. Fighter Data"
   ]
  },
  {
   "cell_type": "code",
   "execution_count": 64,
   "metadata": {},
   "outputs": [],
   "source": [
    "fighter_df = pd.read_csv(\"ufc_scrape/data_fighters.csv\")"
   ]
  },
  {
   "cell_type": "code",
   "execution_count": 65,
   "metadata": {},
   "outputs": [
    {
     "data": {
      "text/html": [
       "<div>\n",
       "<style scoped>\n",
       "    .dataframe tbody tr th:only-of-type {\n",
       "        vertical-align: middle;\n",
       "    }\n",
       "\n",
       "    .dataframe tbody tr th {\n",
       "        vertical-align: top;\n",
       "    }\n",
       "\n",
       "    .dataframe thead th {\n",
       "        text-align: right;\n",
       "    }\n",
       "</style>\n",
       "<table border=\"1\" class=\"dataframe\">\n",
       "  <thead>\n",
       "    <tr style=\"text-align: right;\">\n",
       "      <th></th>\n",
       "      <th>name</th>\n",
       "      <th>record</th>\n",
       "      <th>height</th>\n",
       "      <th>weight</th>\n",
       "      <th>reach</th>\n",
       "      <th>stance</th>\n",
       "      <th>dob</th>\n",
       "      <th>slmp</th>\n",
       "      <th>str_acc</th>\n",
       "      <th>ssapm</th>\n",
       "      <th>str_def</th>\n",
       "      <th>td_avg</th>\n",
       "      <th>td_acc</th>\n",
       "      <th>td_def</th>\n",
       "      <th>sub_avg</th>\n",
       "    </tr>\n",
       "  </thead>\n",
       "  <tbody>\n",
       "    <tr>\n",
       "      <td>0</td>\n",
       "      <td>\\n                Hunter Azure\\n\\n</td>\n",
       "      <td>\\n                Record: 8-0-0\\n</td>\n",
       "      <td>\\n      ,\\n      5' 8\"\\n</td>\n",
       "      <td>\\n      ,\\n      135 lbs.\\n</td>\n",
       "      <td>\\n      ,\\n      69\"\\n</td>\n",
       "      <td>\\n      ,\\n      Orthodox\\n</td>\n",
       "      <td>\\n      ,\\n      \\n        Mar 02, 1992\\n     ...</td>\n",
       "      <td>\\n          ,\\n\\n          4.00\\n\\n</td>\n",
       "      <td>\\n          ,\\n          50%\\n</td>\n",
       "      <td>\\n          ,\\n          1.57\\n</td>\n",
       "      <td>\\n          ,\\n          56%\\n</td>\n",
       "      <td>\\n          ,\\n          2.00\\n</td>\n",
       "      <td>\\n          ,\\n          33%\\n</td>\n",
       "      <td>\\n          ,\\n          75%\\n</td>\n",
       "      <td>\\n          ,\\n          2.5\\n</td>\n",
       "    </tr>\n",
       "    <tr>\n",
       "      <td>1</td>\n",
       "      <td>\\n                Michael Byrnes\\n\\n</td>\n",
       "      <td>\\n                Record: 5-2-0\\n</td>\n",
       "      <td>\\n      ,\\n      5' 11\"\\n</td>\n",
       "      <td>\\n      ,\\n      155 lbs.\\n</td>\n",
       "      <td>\\n      ,\\n      --\\n</td>\n",
       "      <td>\\n      ,\\n      \\n</td>\n",
       "      <td>\\n      ,\\n      \\n        Jul 17, 1990\\n     ...</td>\n",
       "      <td>\\n          ,\\n\\n          0.00\\n\\n</td>\n",
       "      <td>\\n          ,\\n          0%\\n</td>\n",
       "      <td>\\n          ,\\n          0.00\\n</td>\n",
       "      <td>\\n          ,\\n          0%\\n</td>\n",
       "      <td>\\n          ,\\n          0.00\\n</td>\n",
       "      <td>\\n          ,\\n          0%\\n</td>\n",
       "      <td>\\n          ,\\n          0%\\n</td>\n",
       "      <td>\\n          ,\\n          0.0\\n</td>\n",
       "    </tr>\n",
       "    <tr>\n",
       "      <td>2</td>\n",
       "      <td>\\n                Gleidson Cutis\\n\\n</td>\n",
       "      <td>\\n                Record: 7-3-0\\n</td>\n",
       "      <td>\\n      ,\\n      5' 9\"\\n</td>\n",
       "      <td>\\n      ,\\n      155 lbs.\\n</td>\n",
       "      <td>\\n      ,\\n      --\\n</td>\n",
       "      <td>\\n      ,\\n      Orthodox\\n</td>\n",
       "      <td>\\n      ,\\n      \\n        Feb 07, 1989\\n     ...</td>\n",
       "      <td>\\n          ,\\n\\n          2.99\\n\\n</td>\n",
       "      <td>\\n          ,\\n          52%\\n</td>\n",
       "      <td>\\n          ,\\n          8.28\\n</td>\n",
       "      <td>\\n          ,\\n          59%\\n</td>\n",
       "      <td>\\n          ,\\n          0.00\\n</td>\n",
       "      <td>\\n          ,\\n          0%\\n</td>\n",
       "      <td>\\n          ,\\n          0%\\n</td>\n",
       "      <td>\\n          ,\\n          0.0\\n</td>\n",
       "    </tr>\n",
       "    <tr>\n",
       "      <td>3</td>\n",
       "      <td>\\n                Rolando Dy\\n\\n</td>\n",
       "      <td>\\n                Record: 9-7-1 (1 NC)\\n      ...</td>\n",
       "      <td>\\n      ,\\n      5' 8\"\\n</td>\n",
       "      <td>\\n      ,\\n      145 lbs.\\n</td>\n",
       "      <td>\\n      ,\\n      69\"\\n</td>\n",
       "      <td>\\n      ,\\n      Orthodox\\n</td>\n",
       "      <td>\\n      ,\\n      \\n        Aug 11, 1990\\n     ...</td>\n",
       "      <td>\\n          ,\\n\\n          3.04\\n\\n</td>\n",
       "      <td>\\n          ,\\n          37%\\n</td>\n",
       "      <td>\\n          ,\\n          4.47\\n</td>\n",
       "      <td>\\n          ,\\n          52%\\n</td>\n",
       "      <td>\\n          ,\\n          0.30\\n</td>\n",
       "      <td>\\n          ,\\n          20%\\n</td>\n",
       "      <td>\\n          ,\\n          68%\\n</td>\n",
       "      <td>\\n          ,\\n          0.0\\n</td>\n",
       "    </tr>\n",
       "    <tr>\n",
       "      <td>4</td>\n",
       "      <td>\\n                Jessica Eye\\n\\n</td>\n",
       "      <td>\\n                Record: 15-7-0 (1 NC)\\n     ...</td>\n",
       "      <td>\\n      ,\\n      5' 6\"\\n</td>\n",
       "      <td>\\n      ,\\n      125 lbs.\\n</td>\n",
       "      <td>\\n      ,\\n      66\"\\n</td>\n",
       "      <td>\\n      ,\\n      Orthodox\\n</td>\n",
       "      <td>\\n      ,\\n      \\n        Jul 27, 1986\\n     ...</td>\n",
       "      <td>\\n          ,\\n\\n          3.79\\n\\n</td>\n",
       "      <td>\\n          ,\\n          38%\\n</td>\n",
       "      <td>\\n          ,\\n          3.39\\n</td>\n",
       "      <td>\\n          ,\\n          59%\\n</td>\n",
       "      <td>\\n          ,\\n          0.46\\n</td>\n",
       "      <td>\\n          ,\\n          45%\\n</td>\n",
       "      <td>\\n          ,\\n          59%\\n</td>\n",
       "      <td>\\n          ,\\n          0.7\\n</td>\n",
       "    </tr>\n",
       "  </tbody>\n",
       "</table>\n",
       "</div>"
      ],
      "text/plain": [
       "                                               name  \\\n",
       "0    \\n                Hunter Azure\\n\\n               \n",
       "1  \\n                Michael Byrnes\\n\\n               \n",
       "2  \\n                Gleidson Cutis\\n\\n               \n",
       "3      \\n                Rolando Dy\\n\\n               \n",
       "4     \\n                Jessica Eye\\n\\n               \n",
       "\n",
       "                                              record  \\\n",
       "0      \\n                Record: 8-0-0\\n               \n",
       "1      \\n                Record: 5-2-0\\n               \n",
       "2      \\n                Record: 7-3-0\\n               \n",
       "3  \\n                Record: 9-7-1 (1 NC)\\n      ...   \n",
       "4  \\n                Record: 15-7-0 (1 NC)\\n     ...   \n",
       "\n",
       "                          height                           weight  \\\n",
       "0   \\n      ,\\n      5' 8\"\\n      \\n      ,\\n      135 lbs.\\n       \n",
       "1  \\n      ,\\n      5' 11\"\\n      \\n      ,\\n      155 lbs.\\n       \n",
       "2   \\n      ,\\n      5' 9\"\\n      \\n      ,\\n      155 lbs.\\n       \n",
       "3   \\n      ,\\n      5' 8\"\\n      \\n      ,\\n      145 lbs.\\n       \n",
       "4   \\n      ,\\n      5' 6\"\\n      \\n      ,\\n      125 lbs.\\n       \n",
       "\n",
       "                        reach                           stance  \\\n",
       "0  \\n      ,\\n      69\"\\n      \\n      ,\\n      Orthodox\\n       \n",
       "1   \\n      ,\\n      --\\n              \\n      ,\\n      \\n       \n",
       "2   \\n      ,\\n      --\\n      \\n      ,\\n      Orthodox\\n       \n",
       "3  \\n      ,\\n      69\"\\n      \\n      ,\\n      Orthodox\\n       \n",
       "4  \\n      ,\\n      66\"\\n      \\n      ,\\n      Orthodox\\n       \n",
       "\n",
       "                                                 dob  \\\n",
       "0  \\n      ,\\n      \\n        Mar 02, 1992\\n     ...   \n",
       "1  \\n      ,\\n      \\n        Jul 17, 1990\\n     ...   \n",
       "2  \\n      ,\\n      \\n        Feb 07, 1989\\n     ...   \n",
       "3  \\n      ,\\n      \\n        Aug 11, 1990\\n     ...   \n",
       "4  \\n      ,\\n      \\n        Jul 27, 1986\\n     ...   \n",
       "\n",
       "                                          slmp  \\\n",
       "0  \\n          ,\\n\\n          4.00\\n\\n           \n",
       "1  \\n          ,\\n\\n          0.00\\n\\n           \n",
       "2  \\n          ,\\n\\n          2.99\\n\\n           \n",
       "3  \\n          ,\\n\\n          3.04\\n\\n           \n",
       "4  \\n          ,\\n\\n          3.79\\n\\n           \n",
       "\n",
       "                                  str_acc  \\\n",
       "0  \\n          ,\\n          50%\\n           \n",
       "1   \\n          ,\\n          0%\\n           \n",
       "2  \\n          ,\\n          52%\\n           \n",
       "3  \\n          ,\\n          37%\\n           \n",
       "4  \\n          ,\\n          38%\\n           \n",
       "\n",
       "                                     ssapm  \\\n",
       "0  \\n          ,\\n          1.57\\n           \n",
       "1  \\n          ,\\n          0.00\\n           \n",
       "2  \\n          ,\\n          8.28\\n           \n",
       "3  \\n          ,\\n          4.47\\n           \n",
       "4  \\n          ,\\n          3.39\\n           \n",
       "\n",
       "                                  str_def  \\\n",
       "0  \\n          ,\\n          56%\\n           \n",
       "1   \\n          ,\\n          0%\\n           \n",
       "2  \\n          ,\\n          59%\\n           \n",
       "3  \\n          ,\\n          52%\\n           \n",
       "4  \\n          ,\\n          59%\\n           \n",
       "\n",
       "                                    td_avg  \\\n",
       "0  \\n          ,\\n          2.00\\n           \n",
       "1  \\n          ,\\n          0.00\\n           \n",
       "2  \\n          ,\\n          0.00\\n           \n",
       "3  \\n          ,\\n          0.30\\n           \n",
       "4  \\n          ,\\n          0.46\\n           \n",
       "\n",
       "                                   td_acc  \\\n",
       "0  \\n          ,\\n          33%\\n           \n",
       "1   \\n          ,\\n          0%\\n           \n",
       "2   \\n          ,\\n          0%\\n           \n",
       "3  \\n          ,\\n          20%\\n           \n",
       "4  \\n          ,\\n          45%\\n           \n",
       "\n",
       "                                   td_def  \\\n",
       "0  \\n          ,\\n          75%\\n           \n",
       "1   \\n          ,\\n          0%\\n           \n",
       "2   \\n          ,\\n          0%\\n           \n",
       "3  \\n          ,\\n          68%\\n           \n",
       "4  \\n          ,\\n          59%\\n           \n",
       "\n",
       "                                  sub_avg  \n",
       "0  \\n          ,\\n          2.5\\n          \n",
       "1  \\n          ,\\n          0.0\\n          \n",
       "2  \\n          ,\\n          0.0\\n          \n",
       "3  \\n          ,\\n          0.0\\n          \n",
       "4  \\n          ,\\n          0.7\\n          "
      ]
     },
     "execution_count": 65,
     "metadata": {},
     "output_type": "execute_result"
    }
   ],
   "source": [
    "fighter_df.head()"
   ]
  },
  {
   "cell_type": "code",
   "execution_count": 66,
   "metadata": {},
   "outputs": [
    {
     "data": {
      "text/plain": [
       "0"
      ]
     },
     "execution_count": 66,
     "metadata": {},
     "output_type": "execute_result"
    }
   ],
   "source": [
    "fighter_df.duplicated(subset=None).sum()"
   ]
  },
  {
   "cell_type": "code",
   "execution_count": 67,
   "metadata": {},
   "outputs": [],
   "source": [
    "fighter_df = fighter_df.replace(['\\n',','],'', regex=True)"
   ]
  },
  {
   "cell_type": "code",
   "execution_count": 68,
   "metadata": {},
   "outputs": [],
   "source": [
    "fighter_df = fighter_df.apply(lambda x: x.str.strip() if x.dtype == \"object\" else x)"
   ]
  },
  {
   "cell_type": "code",
   "execution_count": 69,
   "metadata": {},
   "outputs": [],
   "source": [
    "percentage_columns = ['str_acc','str_def','td_acc','td_def']\n",
    "for column in percentage_columns:\n",
    "    fighter_df[column] = fighter_df[column].str.replace('%','.0').astype(float)/100"
   ]
  },
  {
   "cell_type": "code",
   "execution_count": 70,
   "metadata": {},
   "outputs": [],
   "source": [
    "fighter_df['record'] = fighter_df['record'].str.replace('Record: ','', regex=True)"
   ]
  },
  {
   "cell_type": "code",
   "execution_count": 71,
   "metadata": {},
   "outputs": [],
   "source": [
    "fighter_df[['wins','losses','draws']] = fighter_df['record'].str.split('-', expand=True)\n",
    "fighter_df['draws'] = fighter_df['draws'].str.split(' ').str[0]\n",
    "fighter_df.drop(columns=['record'], inplace=True)"
   ]
  },
  {
   "cell_type": "code",
   "execution_count": 72,
   "metadata": {},
   "outputs": [],
   "source": [
    "fighter_df['weight'] = fighter_df['weight'].str.replace(' lbs.', '', regex=True)"
   ]
  },
  {
   "cell_type": "code",
   "execution_count": 73,
   "metadata": {},
   "outputs": [],
   "source": [
    "fighter_df['reach'] = fighter_df['reach'].str.replace('\"', '', regex=True)"
   ]
  },
  {
   "cell_type": "code",
   "execution_count": 74,
   "metadata": {},
   "outputs": [],
   "source": [
    "now = pd.Timestamp('now')\n",
    "fighter_df['dob'] = pd.to_datetime(fighter_df['dob'], format='%b %d %Y', errors='coerce')\n",
    "fighter_df['dob'] = fighter_df['dob'].where(fighter_df['dob'] < now, fighter_df['dob'] -  np.timedelta64(100, 'Y'))\n",
    "fighter_df['age'] = (now - fighter_df['dob']).astype('<m8[Y]')"
   ]
  },
  {
   "cell_type": "code",
   "execution_count": 75,
   "metadata": {},
   "outputs": [],
   "source": [
    "fighter_df['height'] = fighter_df['height'].replace([' ','\"'],'', regex=True)\n",
    "fighter_df[['feet','inches']] = fighter_df['height'].str.split(\"'\", expand=True)\n",
    "fighter_df['feet'] = fighter_df['feet'].replace('--','', regex=True)\n",
    "\n",
    "fighter_df['feet'] = pd.to_numeric(fighter_df['feet'])\n",
    "fighter_df['inches'] = pd.to_numeric(fighter_df['inches'])\n",
    "\n",
    "fighter_df['height'] = round((fighter_df['feet']*0.3048) + (fighter_df['inches']*0.0254), 2)\n",
    "\n",
    "fighter_df.drop(columns=['feet','inches'], inplace=True)"
   ]
  },
  {
   "cell_type": "code",
   "execution_count": 76,
   "metadata": {},
   "outputs": [],
   "source": [
    "fighter_df['reach'] = fighter_df['reach'].replace('--','', regex=True)\n",
    "fighter_df['reach'] = pd.to_numeric(fighter_df['reach'])\n",
    "fighter_df['reach'] = round(fighter_df['reach']*0.0254, 2)"
   ]
  },
  {
   "cell_type": "code",
   "execution_count": 78,
   "metadata": {},
   "outputs": [
    {
     "data": {
      "text/html": [
       "<div>\n",
       "<style scoped>\n",
       "    .dataframe tbody tr th:only-of-type {\n",
       "        vertical-align: middle;\n",
       "    }\n",
       "\n",
       "    .dataframe tbody tr th {\n",
       "        vertical-align: top;\n",
       "    }\n",
       "\n",
       "    .dataframe thead th {\n",
       "        text-align: right;\n",
       "    }\n",
       "</style>\n",
       "<table border=\"1\" class=\"dataframe\">\n",
       "  <thead>\n",
       "    <tr style=\"text-align: right;\">\n",
       "      <th></th>\n",
       "      <th>name</th>\n",
       "      <th>height</th>\n",
       "      <th>weight</th>\n",
       "      <th>reach</th>\n",
       "      <th>stance</th>\n",
       "      <th>dob</th>\n",
       "      <th>slmp</th>\n",
       "      <th>str_acc</th>\n",
       "      <th>ssapm</th>\n",
       "      <th>str_def</th>\n",
       "      <th>td_avg</th>\n",
       "      <th>td_acc</th>\n",
       "      <th>td_def</th>\n",
       "      <th>sub_avg</th>\n",
       "      <th>wins</th>\n",
       "      <th>losses</th>\n",
       "      <th>draws</th>\n",
       "      <th>age</th>\n",
       "    </tr>\n",
       "  </thead>\n",
       "  <tbody>\n",
       "    <tr>\n",
       "      <td>0</td>\n",
       "      <td>Hunter Azure</td>\n",
       "      <td>1.73</td>\n",
       "      <td>135</td>\n",
       "      <td>1.75</td>\n",
       "      <td>Orthodox</td>\n",
       "      <td>1992-03-02</td>\n",
       "      <td>4.00</td>\n",
       "      <td>0.50</td>\n",
       "      <td>1.57</td>\n",
       "      <td>0.56</td>\n",
       "      <td>2.00</td>\n",
       "      <td>0.33</td>\n",
       "      <td>0.75</td>\n",
       "      <td>2.5</td>\n",
       "      <td>8</td>\n",
       "      <td>0</td>\n",
       "      <td>0</td>\n",
       "      <td>28.0</td>\n",
       "    </tr>\n",
       "    <tr>\n",
       "      <td>1</td>\n",
       "      <td>Michael Byrnes</td>\n",
       "      <td>1.80</td>\n",
       "      <td>155</td>\n",
       "      <td>NaN</td>\n",
       "      <td></td>\n",
       "      <td>1990-07-17</td>\n",
       "      <td>0.00</td>\n",
       "      <td>0.00</td>\n",
       "      <td>0.00</td>\n",
       "      <td>0.00</td>\n",
       "      <td>0.00</td>\n",
       "      <td>0.00</td>\n",
       "      <td>0.00</td>\n",
       "      <td>0.0</td>\n",
       "      <td>5</td>\n",
       "      <td>2</td>\n",
       "      <td>0</td>\n",
       "      <td>29.0</td>\n",
       "    </tr>\n",
       "    <tr>\n",
       "      <td>2</td>\n",
       "      <td>Gleidson Cutis</td>\n",
       "      <td>1.75</td>\n",
       "      <td>155</td>\n",
       "      <td>NaN</td>\n",
       "      <td>Orthodox</td>\n",
       "      <td>1989-02-07</td>\n",
       "      <td>2.99</td>\n",
       "      <td>0.52</td>\n",
       "      <td>8.28</td>\n",
       "      <td>0.59</td>\n",
       "      <td>0.00</td>\n",
       "      <td>0.00</td>\n",
       "      <td>0.00</td>\n",
       "      <td>0.0</td>\n",
       "      <td>7</td>\n",
       "      <td>3</td>\n",
       "      <td>0</td>\n",
       "      <td>31.0</td>\n",
       "    </tr>\n",
       "    <tr>\n",
       "      <td>3</td>\n",
       "      <td>Rolando Dy</td>\n",
       "      <td>1.73</td>\n",
       "      <td>145</td>\n",
       "      <td>1.75</td>\n",
       "      <td>Orthodox</td>\n",
       "      <td>1990-08-11</td>\n",
       "      <td>3.04</td>\n",
       "      <td>0.37</td>\n",
       "      <td>4.47</td>\n",
       "      <td>0.52</td>\n",
       "      <td>0.30</td>\n",
       "      <td>0.20</td>\n",
       "      <td>0.68</td>\n",
       "      <td>0.0</td>\n",
       "      <td>9</td>\n",
       "      <td>7</td>\n",
       "      <td>1</td>\n",
       "      <td>29.0</td>\n",
       "    </tr>\n",
       "    <tr>\n",
       "      <td>4</td>\n",
       "      <td>Jessica Eye</td>\n",
       "      <td>1.68</td>\n",
       "      <td>125</td>\n",
       "      <td>1.68</td>\n",
       "      <td>Orthodox</td>\n",
       "      <td>1986-07-27</td>\n",
       "      <td>3.79</td>\n",
       "      <td>0.38</td>\n",
       "      <td>3.39</td>\n",
       "      <td>0.59</td>\n",
       "      <td>0.46</td>\n",
       "      <td>0.45</td>\n",
       "      <td>0.59</td>\n",
       "      <td>0.7</td>\n",
       "      <td>15</td>\n",
       "      <td>7</td>\n",
       "      <td>0</td>\n",
       "      <td>33.0</td>\n",
       "    </tr>\n",
       "  </tbody>\n",
       "</table>\n",
       "</div>"
      ],
      "text/plain": [
       "             name  height weight  reach    stance        dob  slmp  str_acc  \\\n",
       "0    Hunter Azure    1.73    135   1.75  Orthodox 1992-03-02  4.00     0.50   \n",
       "1  Michael Byrnes    1.80    155    NaN           1990-07-17  0.00     0.00   \n",
       "2  Gleidson Cutis    1.75    155    NaN  Orthodox 1989-02-07  2.99     0.52   \n",
       "3      Rolando Dy    1.73    145   1.75  Orthodox 1990-08-11  3.04     0.37   \n",
       "4     Jessica Eye    1.68    125   1.68  Orthodox 1986-07-27  3.79     0.38   \n",
       "\n",
       "  ssapm  str_def td_avg  td_acc  td_def sub_avg wins losses draws   age  \n",
       "0  1.57     0.56   2.00    0.33    0.75     2.5    8      0     0  28.0  \n",
       "1  0.00     0.00   0.00    0.00    0.00     0.0    5      2     0  29.0  \n",
       "2  8.28     0.59   0.00    0.00    0.00     0.0    7      3     0  31.0  \n",
       "3  4.47     0.52   0.30    0.20    0.68     0.0    9      7     1  29.0  \n",
       "4  3.39     0.59   0.46    0.45    0.59     0.7   15      7     0  33.0  "
      ]
     },
     "execution_count": 78,
     "metadata": {},
     "output_type": "execute_result"
    }
   ],
   "source": [
    "fighter_df.head()"
   ]
  },
  {
   "cell_type": "code",
   "execution_count": 91,
   "metadata": {},
   "outputs": [
    {
     "data": {
      "text/plain": [
       "name         0\n",
       "height     258\n",
       "weight       0\n",
       "reach      257\n",
       "stance       0\n",
       "dob        740\n",
       "slmp         0\n",
       "str_acc      0\n",
       "ssapm        0\n",
       "str_def      0\n",
       "td_avg       0\n",
       "td_acc       0\n",
       "td_def       0\n",
       "sub_avg      0\n",
       "wins         0\n",
       "losses       0\n",
       "draws        0\n",
       "age        740\n",
       "dtype: int64"
      ]
     },
     "execution_count": 91,
     "metadata": {},
     "output_type": "execute_result"
    }
   ],
   "source": [
    "fighter_df.isnull().sum()"
   ]
  },
  {
   "cell_type": "code",
   "execution_count": 83,
   "metadata": {},
   "outputs": [],
   "source": [
    "reach_df = fighter_df.dropna(subset=['reach'])"
   ]
  },
  {
   "cell_type": "code",
   "execution_count": 86,
   "metadata": {},
   "outputs": [
    {
     "data": {
      "text/plain": [
       "3022.9"
      ]
     },
     "execution_count": 86,
     "metadata": {},
     "output_type": "execute_result"
    }
   ],
   "source": [
    "round(reach_df['height'].sum(),1)"
   ]
  },
  {
   "cell_type": "code",
   "execution_count": 87,
   "metadata": {},
   "outputs": [
    {
     "data": {
      "text/plain": [
       "3096.8"
      ]
     },
     "execution_count": 87,
     "metadata": {},
     "output_type": "execute_result"
    }
   ],
   "source": [
    "round(reach_df['reach'].sum(),1)"
   ]
  },
  {
   "cell_type": "code",
   "execution_count": 90,
   "metadata": {},
   "outputs": [],
   "source": [
    "fighter_df['reach'].fillna(fighter_df['height'], inplace=True)"
   ]
  },
  {
   "cell_type": "code",
   "execution_count": 89,
   "metadata": {},
   "outputs": [
    {
     "data": {
      "text/plain": [
       "170    529\n",
       "155    511\n",
       "185    424\n",
       "145    355\n",
       "135    338\n",
       "      ... \n",
       "430      1\n",
       "232      1\n",
       "285      1\n",
       "320      1\n",
       "259      1\n",
       "Name: weight, Length: 112, dtype: int64"
      ]
     },
     "execution_count": 89,
     "metadata": {},
     "output_type": "execute_result"
    }
   ],
   "source": [
    "fighter_df['weight'].value_counts()"
   ]
  },
  {
   "cell_type": "code",
   "execution_count": null,
   "metadata": {},
   "outputs": [],
   "source": [
    "age_grouped_df = fighter_df.groupby('')"
   ]
  },
  {
   "cell_type": "markdown",
   "metadata": {},
   "source": [
    "# 2. Bout Data"
   ]
  },
  {
   "cell_type": "code",
   "execution_count": 165,
   "metadata": {},
   "outputs": [],
   "source": [
    "bout_df = pd.read_csv(\"ufc_scrape/data_fights.csv\")"
   ]
  },
  {
   "cell_type": "code",
   "execution_count": 154,
   "metadata": {},
   "outputs": [
    {
     "data": {
      "text/html": [
       "<div>\n",
       "<style scoped>\n",
       "    .dataframe tbody tr th:only-of-type {\n",
       "        vertical-align: middle;\n",
       "    }\n",
       "\n",
       "    .dataframe tbody tr th {\n",
       "        vertical-align: top;\n",
       "    }\n",
       "\n",
       "    .dataframe thead th {\n",
       "        text-align: right;\n",
       "    }\n",
       "</style>\n",
       "<table border=\"1\" class=\"dataframe\">\n",
       "  <thead>\n",
       "    <tr style=\"text-align: right;\">\n",
       "      <th></th>\n",
       "      <th>f1_name</th>\n",
       "      <th>f2_name</th>\n",
       "      <th>f1_str</th>\n",
       "      <th>f2_str</th>\n",
       "      <th>f1_tds</th>\n",
       "      <th>f2_tds</th>\n",
       "      <th>f1_subs</th>\n",
       "      <th>f2_subs</th>\n",
       "      <th>f1_pass</th>\n",
       "      <th>f2_pass</th>\n",
       "      <th>weight_class</th>\n",
       "      <th>method</th>\n",
       "      <th>finisher</th>\n",
       "      <th>round_num</th>\n",
       "      <th>time</th>\n",
       "    </tr>\n",
       "  </thead>\n",
       "  <tbody>\n",
       "    <tr>\n",
       "      <td>0</td>\n",
       "      <td>\\n              Max Holloway\\n</td>\n",
       "      <td>\\n              Frankie Edgar\\n</td>\n",
       "      <td>129</td>\n",
       "      <td>96</td>\n",
       "      <td>0</td>\n",
       "      <td>1</td>\n",
       "      <td>0</td>\n",
       "      <td>0</td>\n",
       "      <td>0</td>\n",
       "      <td>0</td>\n",
       "      <td>\\n        Featherweight</td>\n",
       "      <td>\\n        \\n        \\n\\n        U-DEC\\n\\n</td>\n",
       "      <td>\\n        \\n</td>\n",
       "      <td>5</td>\n",
       "      <td>\\n\\n        \\n        5:00\\n</td>\n",
       "    </tr>\n",
       "    <tr>\n",
       "      <td>1</td>\n",
       "      <td>\\n              Cris Cyborg\\n</td>\n",
       "      <td>\\n              Felicia Spencer\\n</td>\n",
       "      <td>122</td>\n",
       "      <td>38</td>\n",
       "      <td>0</td>\n",
       "      <td>0</td>\n",
       "      <td>0</td>\n",
       "      <td>0</td>\n",
       "      <td>1</td>\n",
       "      <td>0</td>\n",
       "      <td>\\n        Women's Featherweight</td>\n",
       "      <td>\\n        \\n        \\n\\n        U-DEC\\n\\n</td>\n",
       "      <td>\\n        \\n</td>\n",
       "      <td>3</td>\n",
       "      <td>\\n\\n        \\n        5:00\\n</td>\n",
       "    </tr>\n",
       "    <tr>\n",
       "      <td>2</td>\n",
       "      <td>\\n              Geoff Neal\\n</td>\n",
       "      <td>\\n              Niko Price\\n</td>\n",
       "      <td>41</td>\n",
       "      <td>24</td>\n",
       "      <td>2</td>\n",
       "      <td>0</td>\n",
       "      <td>0</td>\n",
       "      <td>0</td>\n",
       "      <td>2</td>\n",
       "      <td>1</td>\n",
       "      <td>\\n        Welterweight</td>\n",
       "      <td>\\n        \\n        \\n\\n        KO/TKO\\n\\n</td>\n",
       "      <td>\\n        Punches\\n</td>\n",
       "      <td>2</td>\n",
       "      <td>\\n\\n        \\n        2:39\\n</td>\n",
       "    </tr>\n",
       "    <tr>\n",
       "      <td>3</td>\n",
       "      <td>\\n              Arman Tsarukyan\\n</td>\n",
       "      <td>\\n              Olivier Aubin-Mercier\\n       ...</td>\n",
       "      <td>47</td>\n",
       "      <td>23</td>\n",
       "      <td>2</td>\n",
       "      <td>0</td>\n",
       "      <td>0</td>\n",
       "      <td>0</td>\n",
       "      <td>0</td>\n",
       "      <td>0</td>\n",
       "      <td>\\n        Lightweight</td>\n",
       "      <td>\\n        \\n        \\n\\n        U-DEC\\n\\n</td>\n",
       "      <td>\\n        \\n</td>\n",
       "      <td>3</td>\n",
       "      <td>\\n\\n        \\n        5:00\\n</td>\n",
       "    </tr>\n",
       "    <tr>\n",
       "      <td>4</td>\n",
       "      <td>\\n              Krzysztof Jotko\\n</td>\n",
       "      <td>\\n              Marc-Andre Barriault\\n        ...</td>\n",
       "      <td>40</td>\n",
       "      <td>39</td>\n",
       "      <td>1</td>\n",
       "      <td>1</td>\n",
       "      <td>0</td>\n",
       "      <td>0</td>\n",
       "      <td>0</td>\n",
       "      <td>0</td>\n",
       "      <td>\\n        Middleweight</td>\n",
       "      <td>\\n        \\n        \\n\\n        S-DEC\\n\\n</td>\n",
       "      <td>\\n        \\n</td>\n",
       "      <td>3</td>\n",
       "      <td>\\n\\n        \\n        5:00\\n</td>\n",
       "    </tr>\n",
       "  </tbody>\n",
       "</table>\n",
       "</div>"
      ],
      "text/plain": [
       "                                         f1_name  \\\n",
       "0     \\n              Max Holloway\\n               \n",
       "1      \\n              Cris Cyborg\\n               \n",
       "2       \\n              Geoff Neal\\n               \n",
       "3  \\n              Arman Tsarukyan\\n               \n",
       "4  \\n              Krzysztof Jotko\\n               \n",
       "\n",
       "                                             f2_name  f1_str  f2_str  f1_tds  \\\n",
       "0        \\n              Frankie Edgar\\n                 129      96       0   \n",
       "1      \\n              Felicia Spencer\\n                 122      38       0   \n",
       "2           \\n              Niko Price\\n                  41      24       2   \n",
       "3  \\n              Olivier Aubin-Mercier\\n       ...      47      23       2   \n",
       "4  \\n              Marc-Andre Barriault\\n        ...      40      39       1   \n",
       "\n",
       "   f2_tds  f1_subs  f2_subs  f1_pass  f2_pass  \\\n",
       "0       1        0        0        0        0   \n",
       "1       0        0        0        1        0   \n",
       "2       0        0        0        2        1   \n",
       "3       0        0        0        0        0   \n",
       "4       1        0        0        0        0   \n",
       "\n",
       "                      weight_class  \\\n",
       "0          \\n        Featherweight   \n",
       "1  \\n        Women's Featherweight   \n",
       "2           \\n        Welterweight   \n",
       "3            \\n        Lightweight   \n",
       "4           \\n        Middleweight   \n",
       "\n",
       "                                             method  \\\n",
       "0   \\n        \\n        \\n\\n        U-DEC\\n\\n         \n",
       "1   \\n        \\n        \\n\\n        U-DEC\\n\\n         \n",
       "2  \\n        \\n        \\n\\n        KO/TKO\\n\\n         \n",
       "3   \\n        \\n        \\n\\n        U-DEC\\n\\n         \n",
       "4   \\n        \\n        \\n\\n        S-DEC\\n\\n         \n",
       "\n",
       "                    finisher  round_num                                time  \n",
       "0         \\n        \\n                5  \\n\\n        \\n        5:00\\n        \n",
       "1         \\n        \\n                3  \\n\\n        \\n        5:00\\n        \n",
       "2  \\n        Punches\\n                2  \\n\\n        \\n        2:39\\n        \n",
       "3         \\n        \\n                3  \\n\\n        \\n        5:00\\n        \n",
       "4         \\n        \\n                3  \\n\\n        \\n        5:00\\n        "
      ]
     },
     "execution_count": 154,
     "metadata": {},
     "output_type": "execute_result"
    }
   ],
   "source": [
    "bout_df.head()"
   ]
  },
  {
   "cell_type": "code",
   "execution_count": 155,
   "metadata": {},
   "outputs": [
    {
     "data": {
      "text/plain": [
       "0"
      ]
     },
     "execution_count": 155,
     "metadata": {},
     "output_type": "execute_result"
    }
   ],
   "source": [
    "bout_df.duplicated(subset=None).sum()"
   ]
  },
  {
   "cell_type": "code",
   "execution_count": 156,
   "metadata": {},
   "outputs": [],
   "source": [
    "bout_df = bout_df.replace(['\\n',','],'', regex=True)"
   ]
  },
  {
   "cell_type": "code",
   "execution_count": 157,
   "metadata": {},
   "outputs": [],
   "source": [
    "bout_df[['minutes', 'seconds']] = bout_df['time'].str.split(':', expand=True)"
   ]
  },
  {
   "cell_type": "code",
   "execution_count": 158,
   "metadata": {},
   "outputs": [],
   "source": [
    "num_columns = ['f1_str', \n",
    "               'f2_str', \n",
    "               'f1_tds', \n",
    "               'f2_tds', \n",
    "               'f1_subs', \n",
    "               'f2_subs', \n",
    "               'f1_pass', \n",
    "               'f2_pass',\n",
    "               'round_num',\n",
    "               'minutes',\n",
    "               'seconds']"
   ]
  },
  {
   "cell_type": "code",
   "execution_count": 159,
   "metadata": {},
   "outputs": [],
   "source": [
    "bout_df[num_columns] = bout_df[num_columns].apply(pd.to_numeric, errors='coerce')"
   ]
  },
  {
   "cell_type": "code",
   "execution_count": 160,
   "metadata": {},
   "outputs": [],
   "source": [
    "bout_df['fight_time'] = (5*(bout_df['round_num']-1)) + bout_df['minutes'] + (bout_df['seconds']/60)"
   ]
  },
  {
   "cell_type": "code",
   "execution_count": 163,
   "metadata": {},
   "outputs": [],
   "source": [
    "bout_df.drop(columns=['round_num','time','minutes','seconds'], inplace=True)"
   ]
  },
  {
   "cell_type": "code",
   "execution_count": 164,
   "metadata": {},
   "outputs": [
    {
     "data": {
      "text/html": [
       "<div>\n",
       "<style scoped>\n",
       "    .dataframe tbody tr th:only-of-type {\n",
       "        vertical-align: middle;\n",
       "    }\n",
       "\n",
       "    .dataframe tbody tr th {\n",
       "        vertical-align: top;\n",
       "    }\n",
       "\n",
       "    .dataframe thead th {\n",
       "        text-align: right;\n",
       "    }\n",
       "</style>\n",
       "<table border=\"1\" class=\"dataframe\">\n",
       "  <thead>\n",
       "    <tr style=\"text-align: right;\">\n",
       "      <th></th>\n",
       "      <th>f1_name</th>\n",
       "      <th>f2_name</th>\n",
       "      <th>f1_str</th>\n",
       "      <th>f2_str</th>\n",
       "      <th>f1_tds</th>\n",
       "      <th>f2_tds</th>\n",
       "      <th>f1_subs</th>\n",
       "      <th>f2_subs</th>\n",
       "      <th>f1_pass</th>\n",
       "      <th>f2_pass</th>\n",
       "      <th>weight_class</th>\n",
       "      <th>method</th>\n",
       "      <th>finisher</th>\n",
       "      <th>fight_time</th>\n",
       "    </tr>\n",
       "  </thead>\n",
       "  <tbody>\n",
       "    <tr>\n",
       "      <td>0</td>\n",
       "      <td>Max Holloway</td>\n",
       "      <td>Frankie Edgar</td>\n",
       "      <td>129</td>\n",
       "      <td>96</td>\n",
       "      <td>0</td>\n",
       "      <td>1</td>\n",
       "      <td>0</td>\n",
       "      <td>0</td>\n",
       "      <td>0</td>\n",
       "      <td>0</td>\n",
       "      <td>Featherweight</td>\n",
       "      <td>U-DEC</td>\n",
       "      <td></td>\n",
       "      <td>25.00</td>\n",
       "    </tr>\n",
       "    <tr>\n",
       "      <td>1</td>\n",
       "      <td>Cris Cyborg</td>\n",
       "      <td>Felicia Spencer</td>\n",
       "      <td>122</td>\n",
       "      <td>38</td>\n",
       "      <td>0</td>\n",
       "      <td>0</td>\n",
       "      <td>0</td>\n",
       "      <td>0</td>\n",
       "      <td>1</td>\n",
       "      <td>0</td>\n",
       "      <td>Women's Featherweight</td>\n",
       "      <td>U-DEC</td>\n",
       "      <td></td>\n",
       "      <td>15.00</td>\n",
       "    </tr>\n",
       "    <tr>\n",
       "      <td>2</td>\n",
       "      <td>Geoff Neal</td>\n",
       "      <td>Niko Price</td>\n",
       "      <td>41</td>\n",
       "      <td>24</td>\n",
       "      <td>2</td>\n",
       "      <td>0</td>\n",
       "      <td>0</td>\n",
       "      <td>0</td>\n",
       "      <td>2</td>\n",
       "      <td>1</td>\n",
       "      <td>Welterweight</td>\n",
       "      <td>KO/TKO</td>\n",
       "      <td>Punches</td>\n",
       "      <td>7.65</td>\n",
       "    </tr>\n",
       "    <tr>\n",
       "      <td>3</td>\n",
       "      <td>Arman Tsarukyan</td>\n",
       "      <td>Olivier Aubin-Mercier</td>\n",
       "      <td>47</td>\n",
       "      <td>23</td>\n",
       "      <td>2</td>\n",
       "      <td>0</td>\n",
       "      <td>0</td>\n",
       "      <td>0</td>\n",
       "      <td>0</td>\n",
       "      <td>0</td>\n",
       "      <td>Lightweight</td>\n",
       "      <td>U-DEC</td>\n",
       "      <td></td>\n",
       "      <td>15.00</td>\n",
       "    </tr>\n",
       "    <tr>\n",
       "      <td>4</td>\n",
       "      <td>Krzysztof Jotko</td>\n",
       "      <td>Marc-Andre Barriault</td>\n",
       "      <td>40</td>\n",
       "      <td>39</td>\n",
       "      <td>1</td>\n",
       "      <td>1</td>\n",
       "      <td>0</td>\n",
       "      <td>0</td>\n",
       "      <td>0</td>\n",
       "      <td>0</td>\n",
       "      <td>Middleweight</td>\n",
       "      <td>S-DEC</td>\n",
       "      <td></td>\n",
       "      <td>15.00</td>\n",
       "    </tr>\n",
       "  </tbody>\n",
       "</table>\n",
       "</div>"
      ],
      "text/plain": [
       "                                     f1_name  \\\n",
       "0                   Max Holloway               \n",
       "1                    Cris Cyborg               \n",
       "2                     Geoff Neal               \n",
       "3                Arman Tsarukyan               \n",
       "4                Krzysztof Jotko               \n",
       "\n",
       "                                           f2_name  f1_str  f2_str  f1_tds  \\\n",
       "0                        Frankie Edgar                 129      96       0   \n",
       "1                      Felicia Spencer                 122      38       0   \n",
       "2                           Niko Price                  41      24       2   \n",
       "3                Olivier Aubin-Mercier                  47      23       2   \n",
       "4                 Marc-Andre Barriault                  40      39       1   \n",
       "\n",
       "   f2_tds  f1_subs  f2_subs  f1_pass  f2_pass                   weight_class  \\\n",
       "0       1        0        0        0        0                  Featherweight   \n",
       "1       0        0        0        1        0          Women's Featherweight   \n",
       "2       0        0        0        2        1                   Welterweight   \n",
       "3       0        0        0        0        0                    Lightweight   \n",
       "4       1        0        0        0        0                   Middleweight   \n",
       "\n",
       "                                 method               finisher  fight_time  \n",
       "0                           U-DEC                                    25.00  \n",
       "1                           U-DEC                                    15.00  \n",
       "2                          KO/TKO                Punches              7.65  \n",
       "3                           U-DEC                                    15.00  \n",
       "4                           S-DEC                                    15.00  "
      ]
     },
     "execution_count": 164,
     "metadata": {},
     "output_type": "execute_result"
    }
   ],
   "source": [
    "bout_df.head()"
   ]
  },
  {
   "cell_type": "code",
   "execution_count": null,
   "metadata": {},
   "outputs": [],
   "source": []
  },
  {
   "cell_type": "code",
   "execution_count": null,
   "metadata": {},
   "outputs": [],
   "source": []
  },
  {
   "cell_type": "code",
   "execution_count": null,
   "metadata": {},
   "outputs": [],
   "source": []
  },
  {
   "cell_type": "code",
   "execution_count": null,
   "metadata": {},
   "outputs": [],
   "source": []
  },
  {
   "cell_type": "code",
   "execution_count": null,
   "metadata": {},
   "outputs": [],
   "source": []
  }
 ],
 "metadata": {
  "kernelspec": {
   "display_name": "Python 3",
   "language": "python",
   "name": "python3"
  },
  "language_info": {
   "codemirror_mode": {
    "name": "ipython",
    "version": 3
   },
   "file_extension": ".py",
   "mimetype": "text/x-python",
   "name": "python",
   "nbconvert_exporter": "python",
   "pygments_lexer": "ipython3",
   "version": "3.6.9"
  }
 },
 "nbformat": 4,
 "nbformat_minor": 2
}
